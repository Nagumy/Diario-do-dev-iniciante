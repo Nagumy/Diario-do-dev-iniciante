{
  "nbformat": 4,
  "nbformat_minor": 0,
  "metadata": {
    "colab": {
      "name": "repository3.ipynb",
      "provenance": [],
      "authorship_tag": "ABX9TyPvqC61azDwD3d+hfvK02QW",
      "include_colab_link": true
    },
    "kernelspec": {
      "name": "python3",
      "display_name": "Python 3"
    },
    "language_info": {
      "name": "python"
    }
  },
  "cells": [
    {
      "cell_type": "markdown",
      "metadata": {
        "id": "view-in-github",
        "colab_type": "text"
      },
      "source": [
        "<a href=\"https://colab.research.google.com/github/Nagumy/Diario-do-dev-iniciante/blob/master/repository3.ipynb\" target=\"_parent\"><img src=\"https://colab.research.google.com/assets/colab-badge.svg\" alt=\"Open In Colab\"/></a>"
      ]
    },
    {
      "cell_type": "code",
      "execution_count": null,
      "metadata": {
        "colab": {
          "base_uri": "https://localhost:8080/"
        },
        "id": "IKHWxTPKhE2o",
        "outputId": "314e01e4-b354-4839-f037-0fd23448fea0"
      },
      "outputs": [
        {
          "output_type": "stream",
          "name": "stdout",
          "text": [
            "Resultado em operacao_1 = 42\n",
            "Resultado em operacao_2 = 1.0\n",
            "Resultado em operacao_3 = 8\n",
            "Resultado em operacao_4 = -4\n",
            "Digite seu nome: Daniel\n",
            "Parabéns Daniel, Aprendeu como fazer operações matematicas e como apresentar o resultado através do output do nome da variável!\n"
          ]
        }
      ],
      "source": [
        " # Qual o resultado armazenado na variável operacao_1?\n",
        "\n",
        " operacao_1 = 2 + 8 * 5\n",
        "\n",
        "\n",
        " # Qual o resultado armazenado na variável operacao_2? \n",
        "\n",
        " operacao_2 = (2 + 3) / 5\n",
        "\n",
        "\n",
        " # Qual o resultado armazenado na variável operacao_3?\n",
        "\n",
        " operacao_3 = 4 + 2 ** 2\n",
        "\n",
        "\n",
        " # Qual o resultado armazenado na variável operacao_4?\n",
        "\n",
        " operacao_4 = 3 % 3 - 4\n",
        "\n",
        "\n",
        " print(f\"Resultado em operacao_1 = {operacao_1}\")\n",
        "\n",
        " print(f\"Resultado em operacao_2 = {operacao_2}\")\n",
        "\n",
        " print(f\"Resultado em operacao_3 = {operacao_3}\")\n",
        "\n",
        " print(f\"Resultado em operacao_4 = {operacao_4}\")\n",
        "\n",
        " nome = input('Digite seu nome: ')\n",
        "\n",
        " print(f'Parabéns {nome}, Aprendeu como fazer operações matematicas e como apresentar o resultado através do output do nome da variável!')"
      ]
    }
  ]
}