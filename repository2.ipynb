{
  "nbformat": 4,
  "nbformat_minor": 0,
  "metadata": {
    "colab": {
      "name": "repository2.ipynb",
      "provenance": [],
      "authorship_tag": "ABX9TyNjwEtT77owTVF9EKmZpZrh",
      "include_colab_link": true
    },
    "kernelspec": {
      "name": "python3",
      "display_name": "Python 3"
    },
    "language_info": {
      "name": "python"
    }
  },
  "cells": [
    {
      "cell_type": "markdown",
      "metadata": {
        "id": "view-in-github",
        "colab_type": "text"
      },
      "source": [
        "<a href=\"https://colab.research.google.com/github/Nagumy/Diario-do-dev-iniciante/blob/master/repository2.ipynb\" target=\"_parent\"><img src=\"https://colab.research.google.com/assets/colab-badge.svg\" alt=\"Open In Colab\"/></a>"
      ]
    },
    {
      "cell_type": "code",
      "execution_count": null,
      "metadata": {
        "colab": {
          "base_uri": "https://localhost:8080/"
        },
        "id": "ZDngjooKXaNy",
        "outputId": "a981f8fd-060d-465f-8508-11732ed30031"
      },
      "outputs": [
        {
          "output_type": "stream",
          "name": "stdout",
          "text": [
            "<class 'int'>\n",
            "<class 'str'>\n",
            "<class 'float'>\n",
            "<class 'bool'>\n",
            "Digite o nome do aluno: Daniel\n",
            "Olá Daniel parabéns pelo seu começo na Programação e no GitHub, Aprendeu como ecrever uma variável, os tipos de variáveis, mostrar o tipo da variável,\n",
            "também como fazer input e output de informações!\n"
          ]
        }
      ],
      "source": [
        "  parametro = 10\n",
        "\n",
        "  nome = 'aluno'\n",
        "\n",
        "  nota = 8.75\n",
        "\n",
        "  fez_inscricao = True\n",
        "\n",
        "  print(type(x))\n",
        "\n",
        "  print(type(nome))\n",
        "\n",
        "  print(type(nota))\n",
        "\n",
        "  print(type(fez_inscricao))\n",
        "\n",
        "  nome = input(\"Digite o nome do aluno: \")\n",
        "\n",
        "  print(f'Olá {nome} parabéns pelo seu começo na Programação e no GitHub, Aprendeu como ecrever uma variável, os tipos de variáveis, mostrar o tipo da variável,\\ntambém como fazer input e output de informações!')\n",
        "\n"
      ]
    }
  ]
}