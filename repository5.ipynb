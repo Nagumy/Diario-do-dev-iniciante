{
  "nbformat": 4,
  "nbformat_minor": 0,
  "metadata": {
    "colab": {
      "name": "repository5.ipynb",
      "provenance": [],
      "authorship_tag": "ABX9TyNUc6wHusBqOAT/f02hJMgT",
      "include_colab_link": true
    },
    "kernelspec": {
      "name": "python3",
      "display_name": "Python 3"
    },
    "language_info": {
      "name": "python"
    }
  },
  "cells": [
    {
      "cell_type": "markdown",
      "metadata": {
        "id": "view-in-github",
        "colab_type": "text"
      },
      "source": [
        "<a href=\"https://colab.research.google.com/github/Nagumy/Diario-do-dev-iniciante/blob/master/repository5.ipynb\" target=\"_parent\"><img src=\"https://colab.research.google.com/assets/colab-badge.svg\" alt=\"Open In Colab\"/></a>"
      ]
    },
    {
      "cell_type": "code",
      "execution_count": 25,
      "metadata": {
        "colab": {
          "base_uri": "https://localhost:8080/"
        },
        "id": "LHLV_puJuc_E",
        "outputId": "28fa1a4a-45e1-4c7d-ef09-7f08dcb7ff0a"
      },
      "outputs": [
        {
          "output_type": "stream",
          "name": "stdout",
          "text": [
            "OLÁ, DIGITE SEU NOME: \n",
            "a\n",
            "OI a, COMO VAI VOCÊ? TUDO BEM OU MAIS OU MENOS? \n",
            "\n",
            "a\n",
            "QUE PENA, VAMOS FALAR SOBRE ISSO? \n",
            "\n",
            "SOBRE OQUÊ PODEMOS CONVERSAR HOJE?\n",
            "\n"
          ]
        }
      ],
      "source": [
        " #código simples para simulação de conversa.\n",
        " nome = input('OLÁ, DIGITE SEU NOME: \\n')\n",
        " print(f'OI {nome}, COMO VAI VOCÊ? TUDO BEM OU MAIS OU MENOS? \\n')\n",
        " resposta = input()\n",
        " if resposta == \"TUDO BEM\":\n",
        "  print(f'QUE BOM, EU TAMBÉM ESTOU BEM :)\\n');\n",
        "  print('SOU O PROGRAMA DO PAPAI, SOBRE OQUÊ PODEMOS CONVERSAR HOJE?\\n')\n",
        " else:\n",
        "  print(f'QUE PENA, VAMOS FALAR SOBRE ISSO? \\n');\n",
        "  print('SOBRE OQUÊ PODEMOS CONVERSAR HOJE?\\n')"
      ]
    }
  ]
}