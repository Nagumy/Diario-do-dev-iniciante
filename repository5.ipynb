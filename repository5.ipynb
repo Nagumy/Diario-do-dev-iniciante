{
  "nbformat": 4,
  "nbformat_minor": 0,
  "metadata": {
    "colab": {
      "name": "repository5.ipynb",
      "provenance": [],
      "authorship_tag": "ABX9TyOdhsSXu3udFqyLUyp94zBM",
      "include_colab_link": true
    },
    "kernelspec": {
      "name": "python3",
      "display_name": "Python 3"
    },
    "language_info": {
      "name": "python"
    }
  },
  "cells": [
    {
      "cell_type": "markdown",
      "metadata": {
        "id": "view-in-github",
        "colab_type": "text"
      },
      "source": [
        "<a href=\"https://colab.research.google.com/github/Nagumy/Diario-do-dev-iniciante/blob/master/repository5.ipynb\" target=\"_parent\"><img src=\"https://colab.research.google.com/assets/colab-badge.svg\" alt=\"Open In Colab\"/></a>"
      ]
    },
    {
      "cell_type": "code",
      "execution_count": 24,
      "metadata": {
        "colab": {
          "base_uri": "https://localhost:8080/"
        },
        "id": "LHLV_puJuc_E",
        "outputId": "c5fd0fe8-c542-40c8-d7b1-1dd99bac35c3"
      },
      "outputs": [
        {
          "output_type": "stream",
          "name": "stdout",
          "text": [
            "OLÁ, DIGITE SEU NOME: \n",
            "ISADORA\n",
            "OI ISADORA, COMO VAI VOCÊ? TUDO BEM OU MAIS OU MENOS? \n",
            "\n",
            "MAIS OU MENOS\n",
            "QUE PENA, VAMOS FALAR SOBRE ISSO? \n",
            "\n",
            "SOU O PROGRAMA DO PAPAI, SOBRE OQUÊ PODEMOS CONVERSAR HOJE?\n",
            "\n"
          ]
        }
      ],
      "source": [
        " #código simples para simulação de conversa.\n",
        " nome = input('OLÁ, DIGITE SEU NOME: \\n')\n",
        " print(f'OI {nome}, COMO VAI VOCÊ? TUDO BEM OU MAIS OU MENOS? \\n')\n",
        " resposta = input()\n",
        " if resposta == \"TUDO BEM\":\n",
        "  print(f'QUE BOM, EU TAMBÉM ESTOU BEM :)\\n');\n",
        "  print('SOU O PROGRAMA DO PAPAI, SOBRE OQUÊ PODEMOS CONVERSAR HOJE?\\n')\n",
        " else:\n",
        "  print(f'QUE PENA, VAMOS FALAR SOBRE ISSO? \\n');\n",
        "  print('SOU O PROGRAMA DO PAPAI, SOBRE OQUÊ PODEMOS CONVERSAR HOJE?\\n')"
      ]
    }
  ]
}