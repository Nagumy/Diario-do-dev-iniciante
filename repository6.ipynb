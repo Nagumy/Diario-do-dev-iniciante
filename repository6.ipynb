{
  "nbformat": 4,
  "nbformat_minor": 0,
  "metadata": {
    "colab": {
      "name": "repository6.ipynb",
      "provenance": [],
      "authorship_tag": "ABX9TyOpEXzKK6SqxzZs4obUTdDv",
      "include_colab_link": true
    },
    "kernelspec": {
      "name": "python3",
      "display_name": "Python 3"
    },
    "language_info": {
      "name": "python"
    }
  },
  "cells": [
    {
      "cell_type": "markdown",
      "metadata": {
        "id": "view-in-github",
        "colab_type": "text"
      },
      "source": [
        "<a href=\"https://colab.research.google.com/github/Nagumy/Diario-do-dev-iniciante/blob/master/repository6.ipynb\" target=\"_parent\"><img src=\"https://colab.research.google.com/assets/colab-badge.svg\" alt=\"Open In Colab\"/></a>"
      ]
    },
    {
      "cell_type": "code",
      "execution_count": 5,
      "metadata": {
        "colab": {
          "base_uri": "https://localhost:8080/"
        },
        "id": "an9afjBhpvyq",
        "outputId": "e7f3da47-a56f-48f3-de2a-8ffba5c664a4"
      },
      "outputs": [
        {
          "output_type": "stream",
          "name": "stdout",
          "text": [
            "Digite o mês de referência: \n",
            "3\n",
            "O resulatdo é: 600.0\n"
          ]
        }
      ],
      "source": [
        "'''\n",
        "  Tabela de vendas (gráfico)\n",
        "  \n",
        "  Mês  Resultado Aumento\n",
        "   \n",
        "   1    200       -\n",
        "   2    400       200\n",
        "   3    600       200\n",
        "   4    800       200\n",
        "   5    1000      200\n",
        "   6    1200      200\n",
        "'''\n",
        "'''\n",
        "    extrair as informações e usar formula: r = c * mes, onde r é a variável de resultado, c é a constante de crescimento e mes é a variável de entrada.\n",
        "'''\n",
        "c = 200\n",
        "\n",
        "mes = input(\"Digite o mês de referência: \\n\")\n",
        "\n",
        "mes = float(mes)\n",
        "\n",
        "r = c * mes\n",
        "\n",
        "print(f'O resulatdo é: {r}')"
      ]
    }
  ]
}