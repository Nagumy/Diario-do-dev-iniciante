{
  "nbformat": 4,
  "nbformat_minor": 0,
  "metadata": {
    "colab": {
      "name": "repository4.ipynb",
      "provenance": [],
      "authorship_tag": "ABX9TyOQVLat69l5LW5iVu1Bb6hB",
      "include_colab_link": true
    },
    "kernelspec": {
      "name": "python3",
      "display_name": "Python 3"
    },
    "language_info": {
      "name": "python"
    }
  },
  "cells": [
    {
      "cell_type": "markdown",
      "metadata": {
        "id": "view-in-github",
        "colab_type": "text"
      },
      "source": [
        "<a href=\"https://colab.research.google.com/github/Nagumy/Diario-do-dev-iniciante/blob/master/repository4.ipynb\" target=\"_parent\"><img src=\"https://colab.research.google.com/assets/colab-badge.svg\" alt=\"Open In Colab\"/></a>"
      ]
    },
    {
      "cell_type": "code",
      "execution_count": 32,
      "metadata": {
        "colab": {
          "base_uri": "https://localhost:8080/"
        },
        "id": "ux_uho9FjtZa",
        "outputId": "437c7753-5135-468d-caae-4778c303a04c"
      },
      "outputs": [
        {
          "output_type": "stream",
          "name": "stdout",
          "text": [
            "Digite um valor para \"x\": 2\n",
            "<class 'int'> a\n",
            "<class 'float'> b\n",
            "<class 'int'> c\n",
            "<class 'str'> x\n",
            "2\n",
            "o valor de \"y\" é 23.6\n",
            "\n",
            "Parabéns Daniel, nesta atividade você aprendeu como corrigir o problema de input (que imprime smepre o valor em string)\n",
            "mudando o valor de \"x\" para float e assim alcançando o resultado esperado!\n"
          ]
        }
      ],
      "source": [
        "# y = a*x**2 + b*x + c\n",
        "\n",
        "a = 5\n",
        "\n",
        "b = 0.8\n",
        "\n",
        "c = 2\n",
        "\n",
        "x = input('Digite um valor para \"x\": ')\n",
        "\n",
        "print(type(a),'a')\n",
        "\n",
        "print(type(b),'b')\n",
        "\n",
        "print(type(c),'c')\n",
        "\n",
        "print(type(x),'x')\n",
        "\n",
        "print(x)\n",
        "\n",
        "x = float(x)\n",
        "\n",
        "y = a*x**2 + b*x + c\n",
        "\n",
        "print(f'o valor de \"y\" é {y}\\n')\n",
        "\n",
        "print(f'Parabéns Daniel, nesta atividade você aprendeu como corrigir o problema de input (que imprime smepre o valor em string)\\nmudando o valor de \"x\" para float e assim alcançando o resultado esperado!')"
      ]
    }
  ]
}